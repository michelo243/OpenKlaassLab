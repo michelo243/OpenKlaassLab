{
  "cells": [
    {
      "cell_type": "code",
      "execution_count": 1,
      "metadata": {
        "id": "6PSx5pe3GQW9"
      },
      "outputs": [],
      "source": [
        "import pandas as pd\n",
        "import numpy as np\n",
        "import matplotlib.pyplot as plt\n",
        "from sklearn.cluster import KMeans\n",
        "import seaborn as sns; sns.set()\n",
        "import csv"
      ]
    },
    {
      "attachments": {},
      "cell_type": "markdown",
      "metadata": {},
      "source": [
        "* **Load File**"
      ]
    },
    {
      "cell_type": "code",
      "execution_count": 14,
      "metadata": {},
      "outputs": [
        {
          "data": {
            "text/html": [
              "<div>\n",
              "<style scoped>\n",
              "    .dataframe tbody tr th:only-of-type {\n",
              "        vertical-align: middle;\n",
              "    }\n",
              "\n",
              "    .dataframe tbody tr th {\n",
              "        vertical-align: top;\n",
              "    }\n",
              "\n",
              "    .dataframe thead th {\n",
              "        text-align: right;\n",
              "    }\n",
              "</style>\n",
              "<table border=\"1\" class=\"dataframe\">\n",
              "  <thead>\n",
              "    <tr style=\"text-align: right;\">\n",
              "      <th></th>\n",
              "      <th>fid</th>\n",
              "      <th>shape</th>\n",
              "      <th>objectid</th>\n",
              "      <th>pays</th>\n",
              "      <th>province</th>\n",
              "      <th>nomzs</th>\n",
              "      <th>codezs</th>\n",
              "      <th>nomas</th>\n",
              "      <th>codeas</th>\n",
              "      <th>edite_par</th>\n",
              "      <th>edit_date</th>\n",
              "      <th>fiabilite</th>\n",
              "      <th>longitude</th>\n",
              "      <th>latitude</th>\n",
              "      <th>nomzsas</th>\n",
              "      <th>popsize</th>\n",
              "    </tr>\n",
              "  </thead>\n",
              "  <tbody>\n",
              "    <tr>\n",
              "      <th>0</th>\n",
              "      <td>0</td>\n",
              "      <td>Polygon</td>\n",
              "      <td>1</td>\n",
              "      <td>RDC</td>\n",
              "      <td>ITURI</td>\n",
              "      <td>BOGA</td>\n",
              "      <td>545101</td>\n",
              "      <td>BIKIMA</td>\n",
              "      <td>54510101</td>\n",
              "      <td></td>\n",
              "      <td>12/29/2018</td>\n",
              "      <td>BASSE</td>\n",
              "      <td>29.968290</td>\n",
              "      <td>1.080888</td>\n",
              "      <td>BOGA-BIKIMA</td>\n",
              "      <td>7188</td>\n",
              "    </tr>\n",
              "    <tr>\n",
              "      <th>1</th>\n",
              "      <td>1</td>\n",
              "      <td>Polygon</td>\n",
              "      <td>2</td>\n",
              "      <td>RDC</td>\n",
              "      <td>ITURI</td>\n",
              "      <td>BOGA</td>\n",
              "      <td>545101</td>\n",
              "      <td>BOGA</td>\n",
              "      <td>54510102</td>\n",
              "      <td></td>\n",
              "      <td>12/29/2018</td>\n",
              "      <td>BASSE</td>\n",
              "      <td>29.956936</td>\n",
              "      <td>1.019913</td>\n",
              "      <td>BOGA-BOGA</td>\n",
              "      <td>2841</td>\n",
              "    </tr>\n",
              "    <tr>\n",
              "      <th>2</th>\n",
              "      <td>2</td>\n",
              "      <td>Polygon</td>\n",
              "      <td>3</td>\n",
              "      <td>RDC</td>\n",
              "      <td>ITURI</td>\n",
              "      <td>BOGA</td>\n",
              "      <td>545101</td>\n",
              "      <td>BURASI</td>\n",
              "      <td>54510103</td>\n",
              "      <td></td>\n",
              "      <td>12/29/2018</td>\n",
              "      <td>BASSE</td>\n",
              "      <td>30.130899</td>\n",
              "      <td>1.025999</td>\n",
              "      <td>BOGA-BURASI</td>\n",
              "      <td>3626</td>\n",
              "    </tr>\n",
              "    <tr>\n",
              "      <th>3</th>\n",
              "      <td>3</td>\n",
              "      <td>Polygon</td>\n",
              "      <td>4</td>\n",
              "      <td>RDC</td>\n",
              "      <td>ITURI</td>\n",
              "      <td>BOGA</td>\n",
              "      <td>545101</td>\n",
              "      <td>BWAKADI</td>\n",
              "      <td>54510104</td>\n",
              "      <td></td>\n",
              "      <td>12/29/2018</td>\n",
              "      <td>BASSE</td>\n",
              "      <td>29.778580</td>\n",
              "      <td>0.920095</td>\n",
              "      <td>BOGA-BWAKADI</td>\n",
              "      <td>5250</td>\n",
              "    </tr>\n",
              "    <tr>\n",
              "      <th>4</th>\n",
              "      <td>4</td>\n",
              "      <td>Polygon</td>\n",
              "      <td>5</td>\n",
              "      <td>RDC</td>\n",
              "      <td>ITURI</td>\n",
              "      <td>BOGA</td>\n",
              "      <td>545101</td>\n",
              "      <td>KYABOHE</td>\n",
              "      <td>54510105</td>\n",
              "      <td></td>\n",
              "      <td>12/29/2018</td>\n",
              "      <td>BASSE</td>\n",
              "      <td>30.087993</td>\n",
              "      <td>0.949825</td>\n",
              "      <td>BOGA-KYABOHE</td>\n",
              "      <td>7674</td>\n",
              "    </tr>\n",
              "    <tr>\n",
              "      <th>5</th>\n",
              "      <td>5</td>\n",
              "      <td>Polygon</td>\n",
              "      <td>6</td>\n",
              "      <td>RDC</td>\n",
              "      <td>ITURI</td>\n",
              "      <td>BOGA</td>\n",
              "      <td>545101</td>\n",
              "      <td>MUNGWANGA</td>\n",
              "      <td>54510106</td>\n",
              "      <td></td>\n",
              "      <td>12/29/2018</td>\n",
              "      <td>BASSE</td>\n",
              "      <td>29.990225</td>\n",
              "      <td>0.927802</td>\n",
              "      <td>BOGA-MUNGWANGA</td>\n",
              "      <td>1761</td>\n",
              "    </tr>\n",
              "    <tr>\n",
              "      <th>6</th>\n",
              "      <td>6</td>\n",
              "      <td>Polygon</td>\n",
              "      <td>7</td>\n",
              "      <td>RDC</td>\n",
              "      <td>ITURI</td>\n",
              "      <td>BOGA</td>\n",
              "      <td>545101</td>\n",
              "      <td>RUBINGO</td>\n",
              "      <td>54510107</td>\n",
              "      <td></td>\n",
              "      <td>12/29/2018</td>\n",
              "      <td>BASSE</td>\n",
              "      <td>29.940290</td>\n",
              "      <td>1.048066</td>\n",
              "      <td>BOGA-RUBINGO</td>\n",
              "      <td>7290</td>\n",
              "    </tr>\n",
              "    <tr>\n",
              "      <th>7</th>\n",
              "      <td>7</td>\n",
              "      <td>Polygon</td>\n",
              "      <td>8</td>\n",
              "      <td>RDC</td>\n",
              "      <td>ITURI</td>\n",
              "      <td>BOGA</td>\n",
              "      <td>545101</td>\n",
              "      <td>TCHABI</td>\n",
              "      <td>54510108</td>\n",
              "      <td></td>\n",
              "      <td>12/29/2018</td>\n",
              "      <td>BASSE</td>\n",
              "      <td>29.876149</td>\n",
              "      <td>0.990573</td>\n",
              "      <td>BOGA-TCHABI</td>\n",
              "      <td>2994</td>\n",
              "    </tr>\n",
              "    <tr>\n",
              "      <th>8</th>\n",
              "      <td>8</td>\n",
              "      <td>Polygon</td>\n",
              "      <td>9</td>\n",
              "      <td>RDC</td>\n",
              "      <td>ITURI</td>\n",
              "      <td>BOGA</td>\n",
              "      <td>545101</td>\n",
              "      <td>TONDOLI</td>\n",
              "      <td>54510109</td>\n",
              "      <td></td>\n",
              "      <td>12/29/2018</td>\n",
              "      <td>BASSE</td>\n",
              "      <td>29.916102</td>\n",
              "      <td>0.889091</td>\n",
              "      <td>BOGA-TONDOLI</td>\n",
              "      <td>7932</td>\n",
              "    </tr>\n",
              "    <tr>\n",
              "      <th>9</th>\n",
              "      <td>9</td>\n",
              "      <td>Polygon</td>\n",
              "      <td>10</td>\n",
              "      <td>RDC</td>\n",
              "      <td>ITURI</td>\n",
              "      <td>BOGA</td>\n",
              "      <td>545101</td>\n",
              "      <td>ZUNGULUKA</td>\n",
              "      <td>54510110</td>\n",
              "      <td></td>\n",
              "      <td>12/29/2018</td>\n",
              "      <td>BASSE</td>\n",
              "      <td>29.899677</td>\n",
              "      <td>1.106454</td>\n",
              "      <td>BOGA-ZUNGULUKA</td>\n",
              "      <td>8517</td>\n",
              "    </tr>\n",
              "  </tbody>\n",
              "</table>\n",
              "</div>"
            ],
            "text/plain": [
              "   fid    shape  objectid pays province nomzs  codezs      nomas    codeas  \\\n",
              "0    0  Polygon         1  RDC    ITURI  BOGA  545101     BIKIMA  54510101   \n",
              "1    1  Polygon         2  RDC    ITURI  BOGA  545101       BOGA  54510102   \n",
              "2    2  Polygon         3  RDC    ITURI  BOGA  545101     BURASI  54510103   \n",
              "3    3  Polygon         4  RDC    ITURI  BOGA  545101    BWAKADI  54510104   \n",
              "4    4  Polygon         5  RDC    ITURI  BOGA  545101    KYABOHE  54510105   \n",
              "5    5  Polygon         6  RDC    ITURI  BOGA  545101  MUNGWANGA  54510106   \n",
              "6    6  Polygon         7  RDC    ITURI  BOGA  545101    RUBINGO  54510107   \n",
              "7    7  Polygon         8  RDC    ITURI  BOGA  545101     TCHABI  54510108   \n",
              "8    8  Polygon         9  RDC    ITURI  BOGA  545101    TONDOLI  54510109   \n",
              "9    9  Polygon        10  RDC    ITURI  BOGA  545101  ZUNGULUKA  54510110   \n",
              "\n",
              "  edite_par   edit_date fiabilite  longitude  latitude         nomzsas  \\\n",
              "0            12/29/2018     BASSE  29.968290  1.080888     BOGA-BIKIMA   \n",
              "1            12/29/2018     BASSE  29.956936  1.019913       BOGA-BOGA   \n",
              "2            12/29/2018     BASSE  30.130899  1.025999     BOGA-BURASI   \n",
              "3            12/29/2018     BASSE  29.778580  0.920095    BOGA-BWAKADI   \n",
              "4            12/29/2018     BASSE  30.087993  0.949825    BOGA-KYABOHE   \n",
              "5            12/29/2018     BASSE  29.990225  0.927802  BOGA-MUNGWANGA   \n",
              "6            12/29/2018     BASSE  29.940290  1.048066    BOGA-RUBINGO   \n",
              "7            12/29/2018     BASSE  29.876149  0.990573     BOGA-TCHABI   \n",
              "8            12/29/2018     BASSE  29.916102  0.889091    BOGA-TONDOLI   \n",
              "9            12/29/2018     BASSE  29.899677  1.106454  BOGA-ZUNGULUKA   \n",
              "\n",
              "   popsize  \n",
              "0     7188  \n",
              "1     2841  \n",
              "2     3626  \n",
              "3     5250  \n",
              "4     7674  \n",
              "5     1761  \n",
              "6     7290  \n",
              "7     2994  \n",
              "8     7932  \n",
              "9     8517  "
            ]
          },
          "execution_count": 14,
          "metadata": {},
          "output_type": "execute_result"
        }
      ],
      "source": [
        "in_df = pd.read_csv('/Users/michelo/Documents/_DSI008_EOY/Clustering_Exo/nk_sk_it_aoiebola_kmeans_c.csv')\n",
        "# Change column names to lowercase for consistency\n",
        "in_df.columns = [col.lower() for col in in_df.columns]\n",
        "\n",
        "in_df.head(10)"
      ]
    },
    {
      "attachments": {},
      "cell_type": "markdown",
      "metadata": {},
      "source": [
        "### On supprime les lignes avec les longitudes et latitudes nulles"
      ]
    },
    {
      "cell_type": "code",
      "execution_count": 15,
      "metadata": {},
      "outputs": [],
      "source": [
        "in_df.dropna(axis=0,how='any',subset=['latitude','longitude'],inplace=True)"
      ]
    },
    {
      "attachments": {},
      "cell_type": "markdown",
      "metadata": {},
      "source": [
        "### On crée une dataframe avec les longitude, latitudes et les Identifiants"
      ]
    },
    {
      "cell_type": "code",
      "execution_count": 16,
      "metadata": {},
      "outputs": [],
      "source": [
        "X = in_df.loc[:,['codeas','longitude','latitude']]"
      ]
    },
    {
      "cell_type": "code",
      "execution_count": 11,
      "metadata": {},
      "outputs": [
        {
          "data": {
            "text/html": [
              "<div>\n",
              "<style scoped>\n",
              "    .dataframe tbody tr th:only-of-type {\n",
              "        vertical-align: middle;\n",
              "    }\n",
              "\n",
              "    .dataframe tbody tr th {\n",
              "        vertical-align: top;\n",
              "    }\n",
              "\n",
              "    .dataframe thead th {\n",
              "        text-align: right;\n",
              "    }\n",
              "</style>\n",
              "<table border=\"1\" class=\"dataframe\">\n",
              "  <thead>\n",
              "    <tr style=\"text-align: right;\">\n",
              "      <th></th>\n",
              "      <th>codeas</th>\n",
              "      <th>longitude</th>\n",
              "      <th>latitude</th>\n",
              "    </tr>\n",
              "  </thead>\n",
              "  <tbody>\n",
              "    <tr>\n",
              "      <th>0</th>\n",
              "      <td>54510101</td>\n",
              "      <td>29.968290</td>\n",
              "      <td>1.080888</td>\n",
              "    </tr>\n",
              "    <tr>\n",
              "      <th>1</th>\n",
              "      <td>54510102</td>\n",
              "      <td>29.956936</td>\n",
              "      <td>1.019913</td>\n",
              "    </tr>\n",
              "    <tr>\n",
              "      <th>2</th>\n",
              "      <td>54510103</td>\n",
              "      <td>30.130899</td>\n",
              "      <td>1.025999</td>\n",
              "    </tr>\n",
              "    <tr>\n",
              "      <th>3</th>\n",
              "      <td>54510104</td>\n",
              "      <td>29.778580</td>\n",
              "      <td>0.920095</td>\n",
              "    </tr>\n",
              "    <tr>\n",
              "      <th>4</th>\n",
              "      <td>54510105</td>\n",
              "      <td>30.087993</td>\n",
              "      <td>0.949825</td>\n",
              "    </tr>\n",
              "  </tbody>\n",
              "</table>\n",
              "</div>"
            ],
            "text/plain": [
              "     codeas  longitude  latitude\n",
              "0  54510101  29.968290  1.080888\n",
              "1  54510102  29.956936  1.019913\n",
              "2  54510103  30.130899  1.025999\n",
              "3  54510104  29.778580  0.920095\n",
              "4  54510105  30.087993  0.949825"
            ]
          },
          "execution_count": 11,
          "metadata": {},
          "output_type": "execute_result"
        }
      ],
      "source": [
        "X.head()"
      ]
    },
    {
      "attachments": {},
      "cell_type": "markdown",
      "metadata": {},
      "source": [
        "# Calcul des clusters sans tenir compte des poids"
      ]
    },
    {
      "cell_type": "code",
      "execution_count": 37,
      "metadata": {},
      "outputs": [],
      "source": [
        "K_clusters = range(1,10)\n",
        "kmeans = [KMeans(n_clusters=i) for i in K_clusters]\n",
        "\n",
        "Y_axis = in_df[['latitude']]\n",
        "X_axis = in_df[['longitude']]\n",
        "\n",
        "score = [kmeans[i].fit(Y_axis).score(Y_axis) for i in range(len(kmeans))]"
      ]
    },
    {
      "cell_type": "code",
      "execution_count": 38,
      "metadata": {},
      "outputs": [
        {
          "data": {
            "image/png": "[encoded data removed]",
            "text/plain": [
              "<Figure size 432x288 with 1 Axes>"
            ]
          },
          "metadata": {
            "needs_background": "light"
          },
          "output_type": "display_data"
        }
      ],
      "source": [
        "plt.plot(K_clusters, score)\n",
        "plt.xlabel('Number of Clusters')\n",
        "plt.ylabel('Score')\n",
        "plt.title('Elbow Curve - Unweighted K-Means')\n",
        "plt.show()"
      ]
    },
    {
      "attachments": {},
      "cell_type": "markdown",
      "metadata": {},
      "source": [
        "# Methode 2 : Creation ds clusters et visualisation"
      ]
    },
    {
      "cell_type": "code",
      "execution_count": 39,
      "metadata": {},
      "outputs": [
        {
          "data": {
            "text/plain": [
              "Text(0.5, 1.0, 'Clustering GPS Co-ordinates to Aire de Santé')"
            ]
          },
          "execution_count": 39,
          "metadata": {},
          "output_type": "execute_result"
        },
        {
          "data": {
            "image/png": "[encoded data removed]",
            "text/plain": [
              "<Figure size 432x288 with 2 Axes>"
            ]
          },
          "metadata": {
            "needs_background": "light"
          },
          "output_type": "display_data"
        }
      ],
      "source": [
        "kmeans = KMeans(n_clusters = 3, init ='k-means++')\n",
        "kmeans.fit(X[X.columns[1:3]]) # Compute k-means clustering.\n",
        "\n",
        "X['cluster_label'] = kmeans.fit_predict(X[X.columns[1:3]])\n",
        "\n",
        "centers = kmeans.cluster_centers_ # Coordinates of cluster centers.\n",
        "\n",
        "labels = kmeans.predict(X[X.columns[1:3]]) # Labels of each point\n",
        "\n",
        "#Visualise Resutls\n",
        "X.plot.scatter(x = 'latitude', y = 'longitude', c=labels, s=50, cmap='viridis')\n",
        "plt.scatter(centers[:, 0], centers[:, 1], c='black', s=200, alpha=0.5)\n",
        "plt.title('Clustering GPS Co-ordinates to Aire de Santé',fontsize=18, fontweight='bold')"
      ]
    },
    {
      "attachments": {},
      "cell_type": "markdown",
      "metadata": {},
      "source": [
        "### *******************************************************\n",
        "\n",
        "# *Weighted clustering*"
      ]
    },
    {
      "cell_type": "code",
      "execution_count": 20,
      "metadata": {},
      "outputs": [],
      "source": [
        "in_df.dropna(axis=0,how='any',subset=['codeas','latitude','longitude','popsize'],inplace=True)"
      ]
    },
    {
      "cell_type": "code",
      "execution_count": 21,
      "metadata": {},
      "outputs": [],
      "source": [
        "# Variable with the Longitude and Latitude\n",
        "X_weighted =in_df.loc[:,['codeas','latitude','longitude','popsize']]"
      ]
    },
    {
      "cell_type": "code",
      "execution_count": 22,
      "metadata": {},
      "outputs": [
        {
          "data": {
            "text/html": [
              "<div>\n",
              "<style scoped>\n",
              "    .dataframe tbody tr th:only-of-type {\n",
              "        vertical-align: middle;\n",
              "    }\n",
              "\n",
              "    .dataframe tbody tr th {\n",
              "        vertical-align: top;\n",
              "    }\n",
              "\n",
              "    .dataframe thead th {\n",
              "        text-align: right;\n",
              "    }\n",
              "</style>\n",
              "<table border=\"1\" class=\"dataframe\">\n",
              "  <thead>\n",
              "    <tr style=\"text-align: right;\">\n",
              "      <th></th>\n",
              "      <th>codeas</th>\n",
              "      <th>latitude</th>\n",
              "      <th>longitude</th>\n",
              "      <th>popsize</th>\n",
              "    </tr>\n",
              "  </thead>\n",
              "  <tbody>\n",
              "    <tr>\n",
              "      <th>0</th>\n",
              "      <td>54510101</td>\n",
              "      <td>1.080888</td>\n",
              "      <td>29.968290</td>\n",
              "      <td>7188</td>\n",
              "    </tr>\n",
              "    <tr>\n",
              "      <th>1</th>\n",
              "      <td>54510102</td>\n",
              "      <td>1.019913</td>\n",
              "      <td>29.956936</td>\n",
              "      <td>2841</td>\n",
              "    </tr>\n",
              "    <tr>\n",
              "      <th>2</th>\n",
              "      <td>54510103</td>\n",
              "      <td>1.025999</td>\n",
              "      <td>30.130899</td>\n",
              "      <td>3626</td>\n",
              "    </tr>\n",
              "    <tr>\n",
              "      <th>3</th>\n",
              "      <td>54510104</td>\n",
              "      <td>0.920095</td>\n",
              "      <td>29.778580</td>\n",
              "      <td>5250</td>\n",
              "    </tr>\n",
              "    <tr>\n",
              "      <th>4</th>\n",
              "      <td>54510105</td>\n",
              "      <td>0.949825</td>\n",
              "      <td>30.087993</td>\n",
              "      <td>7674</td>\n",
              "    </tr>\n",
              "  </tbody>\n",
              "</table>\n",
              "</div>"
            ],
            "text/plain": [
              "     codeas  latitude  longitude  popsize\n",
              "0  54510101  1.080888  29.968290     7188\n",
              "1  54510102  1.019913  29.956936     2841\n",
              "2  54510103  1.025999  30.130899     3626\n",
              "3  54510104  0.920095  29.778580     5250\n",
              "4  54510105  0.949825  30.087993     7674"
            ]
          },
          "execution_count": 22,
          "metadata": {},
          "output_type": "execute_result"
        }
      ],
      "source": [
        "X_weighted.head()"
      ]
    },
    {
      "attachments": {},
      "cell_type": "markdown",
      "metadata": {},
      "source": [
        "### Créer une courbe de coude pour sélectionner le nombre optimal de clusters - Clustering pondéré"
      ]
    },
    {
      "cell_type": "code",
      "execution_count": 23,
      "metadata": {},
      "outputs": [],
      "source": [
        "K_clusters = range(1,10)\n",
        "\n",
        "kmeans = [KMeans(n_clusters=i) for i in K_clusters]\n",
        "\n",
        "lat_long = X_weighted[X_weighted.columns[1:3]]\n",
        "lot_size = X_weighted[X_weighted.columns[3]]\n",
        "\n",
        "sample_weight = lot_size\n",
        "\n",
        "score = [kmeans[i].fit(lat_long, sample_weight = lot_size).score(lat_long) for i in range(len(kmeans))]"
      ]
    },
    {
      "cell_type": "code",
      "execution_count": 24,
      "metadata": {},
      "outputs": [
        {
          "data": {
            "image/png": "[encoded data removed]",
            "text/plain": [
              "<Figure size 432x288 with 1 Axes>"
            ]
          },
          "metadata": {
            "needs_background": "light"
          },
          "output_type": "display_data"
        }
      ],
      "source": [
        "plt.plot(K_clusters, score)\n",
        "plt.xlabel('Number of Clusters')\n",
        "\n",
        "plt.ylabel('Score')\n",
        "\n",
        "plt.title('Elbow Curve - Weighted')\n",
        "\n",
        "plt.show()"
      ]
    },
    {
      "attachments": {},
      "cell_type": "markdown",
      "metadata": {},
      "source": [
        "Lorsque nous représentons le graphique, nous voyons que le graphique se stabilise lentement après 2 clusters. Cela implique que l'ajout de clusters supplémentaires ne nous aidera pas beaucoup. C'est déjà différent de ce que nous avions sans utiliser les poids."
      ]
    },
    {
      "cell_type": "code",
      "execution_count": 26,
      "metadata": {},
      "outputs": [
        {
          "data": {
            "text/plain": [
              "Text(0.5, 1.0, 'Clustering GPS data to aire de santé with weight')"
            ]
          },
          "execution_count": 26,
          "metadata": {},
          "output_type": "execute_result"
        },
        {
          "data": {
            "image/png": "[encoded data removed]",
            "text/plain": [
              "<Figure size 432x288 with 2 Axes>"
            ]
          },
          "metadata": {
            "needs_background": "light"
          },
          "output_type": "display_data"
        }
      ],
      "source": [
        "kmeans = KMeans(n_clusters = 3, max_iter=1000, init ='k-means++')\n",
        "\n",
        "lat_long = X_weighted[X_weighted.columns[1:3]]\n",
        "lot_size = X_weighted[X_weighted.columns[3]]\n",
        "weighted_kmeans_clusters = kmeans.fit(lat_long, sample_weight = lot_size) # Compute k-means clustering.\n",
        "X_weighted['cluster_label'] = kmeans.predict(lat_long, sample_weight = lot_size)\n",
        "\n",
        "centers = kmeans.cluster_centers_ # Coordinates of cluster centers.\n",
        "\n",
        "labels = X_weighted['cluster_label'] # Labels of each point\n",
        "\n",
        "X_weighted.plot.scatter(x = 'latitude', y = 'longitude', c=labels, s=50, cmap='viridis')\n",
        "plt.scatter(centers[:, 0], centers[:, 1], c='black', s=200, alpha=0.5)\n",
        "plt.title('Cluster Optimal ponderée des aire de santé avec les poids',fontsize=18, fontweight='bold')"
      ]
    },
    {
      "attachments": {},
      "cell_type": "markdown",
      "metadata": {},
      "source": [
        "# Calculer et visualiser les résultats - Utilisation des clusters pondérés optimaux\n",
        "\n",
        "Visualisons les résultats en traçant les données colorées par ces étiquettes. Nous allons également tracer les centres des clusters tels que déterminés par l'estimateur k-means :"
      ]
    },
    {
      "cell_type": "code",
      "execution_count": 28,
      "metadata": {},
      "outputs": [
        {
          "data": {
            "text/plain": [
              "Text(0.5, 1.0, 'OCluster Optimal ponderée des aire de santé avec les poids')"
            ]
          },
          "execution_count": 28,
          "metadata": {},
          "output_type": "execute_result"
        },
        {
          "data": {
            "image/png": "[encoded data removed]",
            "text/plain": [
              "<Figure size 432x288 with 2 Axes>"
            ]
          },
          "metadata": {
            "needs_background": "light"
          },
          "output_type": "display_data"
        }
      ],
      "source": [
        "kmeans = KMeans(n_clusters = 3, max_iter=1000, init ='k-means++')\n",
        "\n",
        "lat_long = X_weighted[X_weighted.columns[1:3]]\n",
        "lot_size = X_weighted[X_weighted.columns[3]]\n",
        "weighted_kmeans_clusters = kmeans.fit(lat_long, sample_weight = lot_size) # Compute k-means clustering.\n",
        "X_weighted['cluster_label'] = kmeans.predict(lat_long, sample_weight = lot_size)\n",
        "\n",
        "centers = kmeans.cluster_centers_ # Coordinates of cluster centers.\n",
        "\n",
        "labels = X_weighted['cluster_label'] # Labels of each point\n",
        "\n",
        "X_weighted.plot.scatter(x = 'latitude', y = 'longitude', c=labels, s=50, cmap='viridis')\n",
        "plt.scatter(centers[:, 0], centers[:, 1], c='black', s=200, alpha=0.5)\n",
        "plt.title('Cluster Optimal ponderée des aire de santé avec les poids',fontsize=18, fontweight='bold')"
      ]
    },
    {
      "attachments": {},
      "cell_type": "markdown",
      "metadata": {},
      "source": [
        "# Fusionner les résultats avec l'ensemble de vos données\n",
        "\n",
        "Nous devons fusionner nos données existantes pour inclure les clusters afin de pouvoir effectuer une analyse plus approfondie. Nous avons deux variables contenant nos données, 'df' et 'X'. Voyons à quoi elles ressemblent avant."
      ]
    },
    {
      "cell_type": "code",
      "execution_count": 29,
      "metadata": {},
      "outputs": [
        {
          "data": {
            "text/html": [
              "<div>\n",
              "<style scoped>\n",
              "    .dataframe tbody tr th:only-of-type {\n",
              "        vertical-align: middle;\n",
              "    }\n",
              "\n",
              "    .dataframe tbody tr th {\n",
              "        vertical-align: top;\n",
              "    }\n",
              "\n",
              "    .dataframe thead th {\n",
              "        text-align: right;\n",
              "    }\n",
              "</style>\n",
              "<table border=\"1\" class=\"dataframe\">\n",
              "  <thead>\n",
              "    <tr style=\"text-align: right;\">\n",
              "      <th></th>\n",
              "      <th>fid</th>\n",
              "      <th>shape</th>\n",
              "      <th>objectid</th>\n",
              "      <th>pays</th>\n",
              "      <th>province</th>\n",
              "      <th>nomzs</th>\n",
              "      <th>codezs</th>\n",
              "      <th>nomas</th>\n",
              "      <th>codeas</th>\n",
              "      <th>edite_par</th>\n",
              "      <th>edit_date</th>\n",
              "      <th>fiabilite</th>\n",
              "      <th>longitude</th>\n",
              "      <th>latitude</th>\n",
              "      <th>nomzsas</th>\n",
              "      <th>popsize</th>\n",
              "    </tr>\n",
              "  </thead>\n",
              "  <tbody>\n",
              "    <tr>\n",
              "      <th>0</th>\n",
              "      <td>0</td>\n",
              "      <td>Polygon</td>\n",
              "      <td>1</td>\n",
              "      <td>RDC</td>\n",
              "      <td>ITURI</td>\n",
              "      <td>BOGA</td>\n",
              "      <td>545101</td>\n",
              "      <td>BIKIMA</td>\n",
              "      <td>54510101</td>\n",
              "      <td></td>\n",
              "      <td>12/29/2018</td>\n",
              "      <td>BASSE</td>\n",
              "      <td>29.968290</td>\n",
              "      <td>1.080888</td>\n",
              "      <td>BOGA-BIKIMA</td>\n",
              "      <td>7188</td>\n",
              "    </tr>\n",
              "    <tr>\n",
              "      <th>1</th>\n",
              "      <td>1</td>\n",
              "      <td>Polygon</td>\n",
              "      <td>2</td>\n",
              "      <td>RDC</td>\n",
              "      <td>ITURI</td>\n",
              "      <td>BOGA</td>\n",
              "      <td>545101</td>\n",
              "      <td>BOGA</td>\n",
              "      <td>54510102</td>\n",
              "      <td></td>\n",
              "      <td>12/29/2018</td>\n",
              "      <td>BASSE</td>\n",
              "      <td>29.956936</td>\n",
              "      <td>1.019913</td>\n",
              "      <td>BOGA-BOGA</td>\n",
              "      <td>2841</td>\n",
              "    </tr>\n",
              "    <tr>\n",
              "      <th>2</th>\n",
              "      <td>2</td>\n",
              "      <td>Polygon</td>\n",
              "      <td>3</td>\n",
              "      <td>RDC</td>\n",
              "      <td>ITURI</td>\n",
              "      <td>BOGA</td>\n",
              "      <td>545101</td>\n",
              "      <td>BURASI</td>\n",
              "      <td>54510103</td>\n",
              "      <td></td>\n",
              "      <td>12/29/2018</td>\n",
              "      <td>BASSE</td>\n",
              "      <td>30.130899</td>\n",
              "      <td>1.025999</td>\n",
              "      <td>BOGA-BURASI</td>\n",
              "      <td>3626</td>\n",
              "    </tr>\n",
              "  </tbody>\n",
              "</table>\n",
              "</div>"
            ],
            "text/plain": [
              "   fid    shape  objectid pays province nomzs  codezs   nomas    codeas  \\\n",
              "0    0  Polygon         1  RDC    ITURI  BOGA  545101  BIKIMA  54510101   \n",
              "1    1  Polygon         2  RDC    ITURI  BOGA  545101    BOGA  54510102   \n",
              "2    2  Polygon         3  RDC    ITURI  BOGA  545101  BURASI  54510103   \n",
              "\n",
              "  edite_par   edit_date fiabilite  longitude  latitude      nomzsas  popsize  \n",
              "0            12/29/2018     BASSE  29.968290  1.080888  BOGA-BIKIMA     7188  \n",
              "1            12/29/2018     BASSE  29.956936  1.019913    BOGA-BOGA     2841  \n",
              "2            12/29/2018     BASSE  30.130899  1.025999  BOGA-BURASI     3626  "
            ]
          },
          "execution_count": 29,
          "metadata": {},
          "output_type": "execute_result"
        }
      ],
      "source": [
        "in_df.head(3)"
      ]
    },
    {
      "cell_type": "code",
      "execution_count": 30,
      "metadata": {},
      "outputs": [
        {
          "data": {
            "text/html": [
              "<div>\n",
              "<style scoped>\n",
              "    .dataframe tbody tr th:only-of-type {\n",
              "        vertical-align: middle;\n",
              "    }\n",
              "\n",
              "    .dataframe tbody tr th {\n",
              "        vertical-align: top;\n",
              "    }\n",
              "\n",
              "    .dataframe thead th {\n",
              "        text-align: right;\n",
              "    }\n",
              "</style>\n",
              "<table border=\"1\" class=\"dataframe\">\n",
              "  <thead>\n",
              "    <tr style=\"text-align: right;\">\n",
              "      <th></th>\n",
              "      <th>codeas</th>\n",
              "      <th>latitude</th>\n",
              "      <th>longitude</th>\n",
              "      <th>popsize</th>\n",
              "      <th>cluster_label</th>\n",
              "    </tr>\n",
              "  </thead>\n",
              "  <tbody>\n",
              "    <tr>\n",
              "      <th>0</th>\n",
              "      <td>54510101</td>\n",
              "      <td>1.080888</td>\n",
              "      <td>29.968290</td>\n",
              "      <td>7188</td>\n",
              "      <td>1</td>\n",
              "    </tr>\n",
              "    <tr>\n",
              "      <th>1</th>\n",
              "      <td>54510102</td>\n",
              "      <td>1.019913</td>\n",
              "      <td>29.956936</td>\n",
              "      <td>2841</td>\n",
              "      <td>1</td>\n",
              "    </tr>\n",
              "    <tr>\n",
              "      <th>2</th>\n",
              "      <td>54510103</td>\n",
              "      <td>1.025999</td>\n",
              "      <td>30.130899</td>\n",
              "      <td>3626</td>\n",
              "      <td>1</td>\n",
              "    </tr>\n",
              "  </tbody>\n",
              "</table>\n",
              "</div>"
            ],
            "text/plain": [
              "     codeas  latitude  longitude  popsize  cluster_label\n",
              "0  54510101  1.080888  29.968290     7188              1\n",
              "1  54510102  1.019913  29.956936     2841              1\n",
              "2  54510103  1.025999  30.130899     3626              1"
            ]
          },
          "execution_count": 30,
          "metadata": {},
          "output_type": "execute_result"
        }
      ],
      "source": [
        "X_weighted.head(3)"
      ]
    },
    {
      "attachments": {},
      "cell_type": "markdown",
      "metadata": {},
      "source": [
        "Supprimons la longitude et la latitude de 'X' puisqu'elles existent déjà dans 'df'. Si nous ne supprimons pas les colonnes longitude et latitude, nous aurons deux autres colonnes créées pour la longitude et la latitude dans notre cadre de données. Ce n'est pas ce que nous voulons."
      ]
    },
    {
      "cell_type": "code",
      "execution_count": 31,
      "metadata": {},
      "outputs": [
        {
          "data": {
            "text/html": [
              "<div>\n",
              "<style scoped>\n",
              "    .dataframe tbody tr th:only-of-type {\n",
              "        vertical-align: middle;\n",
              "    }\n",
              "\n",
              "    .dataframe tbody tr th {\n",
              "        vertical-align: top;\n",
              "    }\n",
              "\n",
              "    .dataframe thead th {\n",
              "        text-align: right;\n",
              "    }\n",
              "</style>\n",
              "<table border=\"1\" class=\"dataframe\">\n",
              "  <thead>\n",
              "    <tr style=\"text-align: right;\">\n",
              "      <th></th>\n",
              "      <th>codeas</th>\n",
              "      <th>cluster_label</th>\n",
              "    </tr>\n",
              "  </thead>\n",
              "  <tbody>\n",
              "    <tr>\n",
              "      <th>0</th>\n",
              "      <td>54510101</td>\n",
              "      <td>1</td>\n",
              "    </tr>\n",
              "    <tr>\n",
              "      <th>1</th>\n",
              "      <td>54510102</td>\n",
              "      <td>1</td>\n",
              "    </tr>\n",
              "    <tr>\n",
              "      <th>2</th>\n",
              "      <td>54510103</td>\n",
              "      <td>1</td>\n",
              "    </tr>\n",
              "  </tbody>\n",
              "</table>\n",
              "</div>"
            ],
            "text/plain": [
              "     codeas  cluster_label\n",
              "0  54510101              1\n",
              "1  54510102              1\n",
              "2  54510103              1"
            ]
          },
          "execution_count": 31,
          "metadata": {},
          "output_type": "execute_result"
        }
      ],
      "source": [
        "X_weighted = X_weighted[['codeas','cluster_label']]\n",
        "X_weighted.head(3)"
      ]
    },
    {
      "attachments": {},
      "cell_type": "markdown",
      "metadata": {},
      "source": [
        "### Nouveau dataframe des clusters"
      ]
    },
    {
      "cell_type": "code",
      "execution_count": 34,
      "metadata": {},
      "outputs": [
        {
          "data": {
            "text/html": [
              "<div>\n",
              "<style scoped>\n",
              "    .dataframe tbody tr th:only-of-type {\n",
              "        vertical-align: middle;\n",
              "    }\n",
              "\n",
              "    .dataframe tbody tr th {\n",
              "        vertical-align: top;\n",
              "    }\n",
              "\n",
              "    .dataframe thead th {\n",
              "        text-align: right;\n",
              "    }\n",
              "</style>\n",
              "<table border=\"1\" class=\"dataframe\">\n",
              "  <thead>\n",
              "    <tr style=\"text-align: right;\">\n",
              "      <th></th>\n",
              "      <th>fid</th>\n",
              "      <th>shape</th>\n",
              "      <th>objectid</th>\n",
              "      <th>pays</th>\n",
              "      <th>province</th>\n",
              "      <th>nomzs</th>\n",
              "      <th>codezs</th>\n",
              "      <th>nomas</th>\n",
              "      <th>codeas</th>\n",
              "      <th>edite_par</th>\n",
              "      <th>edit_date</th>\n",
              "      <th>fiabilite</th>\n",
              "      <th>longitude</th>\n",
              "      <th>latitude</th>\n",
              "      <th>nomzsas</th>\n",
              "      <th>popsize</th>\n",
              "      <th>cluster_label</th>\n",
              "    </tr>\n",
              "  </thead>\n",
              "  <tbody>\n",
              "    <tr>\n",
              "      <th>0</th>\n",
              "      <td>0</td>\n",
              "      <td>Polygon</td>\n",
              "      <td>1</td>\n",
              "      <td>RDC</td>\n",
              "      <td>ITURI</td>\n",
              "      <td>BOGA</td>\n",
              "      <td>545101</td>\n",
              "      <td>BIKIMA</td>\n",
              "      <td>54510101</td>\n",
              "      <td></td>\n",
              "      <td>12/29/2018</td>\n",
              "      <td>BASSE</td>\n",
              "      <td>29.968290</td>\n",
              "      <td>1.080888</td>\n",
              "      <td>BOGA-BIKIMA</td>\n",
              "      <td>7188</td>\n",
              "      <td>1</td>\n",
              "    </tr>\n",
              "    <tr>\n",
              "      <th>1</th>\n",
              "      <td>1</td>\n",
              "      <td>Polygon</td>\n",
              "      <td>2</td>\n",
              "      <td>RDC</td>\n",
              "      <td>ITURI</td>\n",
              "      <td>BOGA</td>\n",
              "      <td>545101</td>\n",
              "      <td>BOGA</td>\n",
              "      <td>54510102</td>\n",
              "      <td></td>\n",
              "      <td>12/29/2018</td>\n",
              "      <td>BASSE</td>\n",
              "      <td>29.956936</td>\n",
              "      <td>1.019913</td>\n",
              "      <td>BOGA-BOGA</td>\n",
              "      <td>2841</td>\n",
              "      <td>1</td>\n",
              "    </tr>\n",
              "    <tr>\n",
              "      <th>2</th>\n",
              "      <td>2</td>\n",
              "      <td>Polygon</td>\n",
              "      <td>3</td>\n",
              "      <td>RDC</td>\n",
              "      <td>ITURI</td>\n",
              "      <td>BOGA</td>\n",
              "      <td>545101</td>\n",
              "      <td>BURASI</td>\n",
              "      <td>54510103</td>\n",
              "      <td></td>\n",
              "      <td>12/29/2018</td>\n",
              "      <td>BASSE</td>\n",
              "      <td>30.130899</td>\n",
              "      <td>1.025999</td>\n",
              "      <td>BOGA-BURASI</td>\n",
              "      <td>3626</td>\n",
              "      <td>1</td>\n",
              "    </tr>\n",
              "    <tr>\n",
              "      <th>3</th>\n",
              "      <td>3</td>\n",
              "      <td>Polygon</td>\n",
              "      <td>4</td>\n",
              "      <td>RDC</td>\n",
              "      <td>ITURI</td>\n",
              "      <td>BOGA</td>\n",
              "      <td>545101</td>\n",
              "      <td>BWAKADI</td>\n",
              "      <td>54510104</td>\n",
              "      <td></td>\n",
              "      <td>12/29/2018</td>\n",
              "      <td>BASSE</td>\n",
              "      <td>29.778580</td>\n",
              "      <td>0.920095</td>\n",
              "      <td>BOGA-BWAKADI</td>\n",
              "      <td>5250</td>\n",
              "      <td>1</td>\n",
              "    </tr>\n",
              "    <tr>\n",
              "      <th>4</th>\n",
              "      <td>4</td>\n",
              "      <td>Polygon</td>\n",
              "      <td>5</td>\n",
              "      <td>RDC</td>\n",
              "      <td>ITURI</td>\n",
              "      <td>BOGA</td>\n",
              "      <td>545101</td>\n",
              "      <td>KYABOHE</td>\n",
              "      <td>54510105</td>\n",
              "      <td></td>\n",
              "      <td>12/29/2018</td>\n",
              "      <td>BASSE</td>\n",
              "      <td>30.087993</td>\n",
              "      <td>0.949825</td>\n",
              "      <td>BOGA-KYABOHE</td>\n",
              "      <td>7674</td>\n",
              "      <td>1</td>\n",
              "    </tr>\n",
              "  </tbody>\n",
              "</table>\n",
              "</div>"
            ],
            "text/plain": [
              "   fid    shape  objectid pays province nomzs  codezs    nomas    codeas  \\\n",
              "0    0  Polygon         1  RDC    ITURI  BOGA  545101   BIKIMA  54510101   \n",
              "1    1  Polygon         2  RDC    ITURI  BOGA  545101     BOGA  54510102   \n",
              "2    2  Polygon         3  RDC    ITURI  BOGA  545101   BURASI  54510103   \n",
              "3    3  Polygon         4  RDC    ITURI  BOGA  545101  BWAKADI  54510104   \n",
              "4    4  Polygon         5  RDC    ITURI  BOGA  545101  KYABOHE  54510105   \n",
              "\n",
              "  edite_par   edit_date fiabilite  longitude  latitude       nomzsas  popsize  \\\n",
              "0            12/29/2018     BASSE  29.968290  1.080888   BOGA-BIKIMA     7188   \n",
              "1            12/29/2018     BASSE  29.956936  1.019913     BOGA-BOGA     2841   \n",
              "2            12/29/2018     BASSE  30.130899  1.025999   BOGA-BURASI     3626   \n",
              "3            12/29/2018     BASSE  29.778580  0.920095  BOGA-BWAKADI     5250   \n",
              "4            12/29/2018     BASSE  30.087993  0.949825  BOGA-KYABOHE     7674   \n",
              "\n",
              "   cluster_label  \n",
              "0              1  \n",
              "1              1  \n",
              "2              1  \n",
              "3              1  \n",
              "4              1  "
            ]
          },
          "execution_count": 34,
          "metadata": {},
          "output_type": "execute_result"
        }
      ],
      "source": [
        "clustered_data = in_df.merge(X_weighted, left_on='codeas', right_on='codeas')\n",
        "clustered_data.head(5)"
      ]
    },
    {
      "attachments": {},
      "cell_type": "markdown",
      "metadata": {},
      "source": [
        "# Exportation vers un nouveau fichier CSV avec les clusters"
      ]
    },
    {
      "cell_type": "code",
      "execution_count": 35,
      "metadata": {},
      "outputs": [],
      "source": [
        "clustered_data.to_csv ('/Users/michelo/Documents/_DSI008_EOY/Clustering_Exo/nk_sk_clustered_final.csv', index=None, header = True)"
      ]
    },
    {
      "attachments": {},
      "cell_type": "markdown",
      "metadata": {},
      "source": [
        "# Definition des centroides sur base des données"
      ]
    },
    {
      "cell_type": "code",
      "execution_count": 36,
      "metadata": {},
      "outputs": [
        {
          "name": "stdout",
          "output_type": "stream",
          "text": [
            "[[-3.36204028 28.61505916]\n",
            " [ 2.04059086 30.43281952]\n",
            " [-0.45149802 29.13366601]]\n"
          ]
        }
      ],
      "source": [
        "centers = kmeans.cluster_centers_\n",
        "print(centers)"
      ]
    }
  ],
  "metadata": {
    "colab": {
      "collapsed_sections": [],
      "name": "SI_NER_DataAnalysis.ipynb",
      "provenance": []
    },
    "kernelspec": {
      "display_name": "Python 3.10.5 64-bit",
      "language": "python",
      "name": "python3"
    },
    "language_info": {
      "codemirror_mode": {
        "name": "ipython",
        "version": 3
      },
      "file_extension": ".py",
      "mimetype": "text/x-python",
      "name": "python",
      "nbconvert_exporter": "python",
      "pygments_lexer": "ipython3",
      "version": "3.10.5 (v3.10.5:f377153967, Jun  6 2022, 12:36:10) [Clang 13.0.0 (clang-1300.0.29.30)]"
    },
    "vscode": {
      "interpreter": {
        "hash": "aee8b7b246df8f9039afb4144a1f6fd8d2ca17a180786b69acc140d282b71a49"
      }
    }
  },
  "nbformat": 4,
  "nbformat_minor": 0
}
